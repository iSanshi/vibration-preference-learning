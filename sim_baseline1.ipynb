{
  "cells": [
    {
      "cell_type": "code",
      "execution_count": 1,
      "metadata": {
        "colab": {
          "base_uri": "https://localhost:8080/"
        },
        "id": "4OgoAjCSp1n1",
        "outputId": "6bfe7daa-0fd1-4e29-ff3a-4148e630285b"
      },
      "outputs": [
        {
          "name": "stdout",
          "output_type": "stream",
          "text": [
            "Collecting GPro\n",
            "  Downloading GPro-1.0.5-py3-none-any.whl.metadata (10 kB)\n",
            "Requirement already satisfied: numpy>=1.9.0 in /usr/local/lib/python3.11/dist-packages (from GPro) (2.0.2)\n",
            "Requirement already satisfied: scipy>1.4.0 in /usr/local/lib/python3.11/dist-packages (from GPro) (1.14.1)\n",
            "Requirement already satisfied: pandas>=0.24.0 in /usr/local/lib/python3.11/dist-packages (from GPro) (2.2.2)\n",
            "Requirement already satisfied: python-dateutil>=2.8.2 in /usr/local/lib/python3.11/dist-packages (from pandas>=0.24.0->GPro) (2.8.2)\n",
            "Requirement already satisfied: pytz>=2020.1 in /usr/local/lib/python3.11/dist-packages (from pandas>=0.24.0->GPro) (2025.2)\n",
            "Requirement already satisfied: tzdata>=2022.7 in /usr/local/lib/python3.11/dist-packages (from pandas>=0.24.0->GPro) (2025.2)\n",
            "Requirement already satisfied: six>=1.5 in /usr/local/lib/python3.11/dist-packages (from python-dateutil>=2.8.2->pandas>=0.24.0->GPro) (1.17.0)\n",
            "Downloading GPro-1.0.5-py3-none-any.whl (21 kB)\n",
            "Installing collected packages: GPro\n",
            "Successfully installed GPro-1.0.5\n"
          ]
        }
      ],
      "source": [
        "!pip install GPro"
      ]
    },
    {
      "cell_type": "code",
      "execution_count": 2,
      "metadata": {
        "id": "s0tC74k-p3SY"
      },
      "outputs": [],
      "source": [
        "import importlib\n",
        "import GPro\n",
        "importlib.reload(GPro)\n",
        "from GPro.preference import ProbitPreferenceGP\n",
        "import numpy as np\n",
        "import matplotlib.pyplot as plt\n",
        "from tqdm import tqdm\n",
        "from scipy.stats import norm"
      ]
    },
    {
      "cell_type": "code",
      "execution_count": 4,
      "metadata": {
        "id": "IvGveB-f-wSy"
      },
      "outputs": [],
      "source": [
        "from scipy.stats import multivariate_normal\n",
        "means = [np.array([-2, 3]), np.array([0, -3]), np.array([2, 2])]\n",
        "covariances = [np.array([[2, 1], [1, 2]]), np.array([[10, -3], [-3, 4]]), np.array([[2, 0], [0, 2]])]\n",
        "weights = [5/1.6, 22/1.6, 10/1.6]\n",
        "step_size = 0.1\n",
        "x, y = np.mgrid[-5:5+step_size:step_size, -5:5+step_size:step_size]\n",
        "pos = np.dstack((x, y))\n",
        "# print(pos.shape)\n",
        "gmm_pdf = np.zeros(x.shape)\n",
        "for mean, cov, weight in zip(means, covariances, weights):\n",
        "    rv = multivariate_normal(mean, cov)\n",
        "    gmm_pdf += weight * rv.pdf(pos)"
      ]
    },
    {
      "cell_type": "code",
      "execution_count": 10,
      "metadata": {
        "id": "K5xl4R-Vp_d7"
      },
      "outputs": [],
      "source": [
        "np.random.seed(47)\n",
        "X = np.random.uniform(low=-5, high=5, size=(100, 2))\n",
        "M = np.zeros((50, 2))\n",
        "for i in range(50):\n",
        "    value1 = 0\n",
        "    value2 = 0\n",
        "    x = np.array([X[2*i], X[2*i+1]])\n",
        "    for mean, cov, weight in zip(means, covariances, weights):\n",
        "        rv = multivariate_normal(mean, cov)\n",
        "        values = weight * rv.pdf(x)\n",
        "        value1 += values[0]\n",
        "        value2 += values[1]\n",
        "    if value1 >= value2:\n",
        "        M[i] = [2*i, 2*i+1]\n",
        "    else:\n",
        "        M[i] = [2*i+1, 2*i]\n",
        "M = M.astype(int)\n",
        "\n",
        "def get_metrics(corr_list):\n",
        "    y_pred = []\n",
        "    for point in pos:\n",
        "        y_pred.append(gpr.predict(point, return_y_std=False))\n",
        "    y_pred = np.array(y_pred)\n",
        "    corr = np.corrcoef(gmm_pdf.flatten(), y_pred.flatten())[0, 1]\n",
        "    print(\">>> corr:\", corr)\n",
        "    corr_list.append(corr)"
      ]
    },
    {
      "cell_type": "code",
      "execution_count": 11,
      "metadata": {
        "colab": {
          "base_uri": "https://localhost:8080/"
        },
        "id": "ZHRzPPA5rB0P",
        "outputId": "bff1f643-e917-4031-bbc8-3f7eadcfb206"
      },
      "outputs": [
        {
          "name": "stdout",
          "output_type": "stream",
          "text": [
            "[[-3.86511528  4.74483094]\n",
            " [ 2.28734634 -1.48532194]\n",
            " [ 2.07605138  2.99604602]\n",
            " [ 1.45561855 -0.85400393]\n",
            " [ 2.06031011 -2.53350618]\n",
            " [-2.44007569 -4.75988646]\n",
            " [-4.01274045 -1.99563565]\n",
            " [ 1.40855678 -1.77792052]\n",
            " [-3.14505862  4.17193549]\n",
            " [-2.29079197 -2.26452108]\n",
            " [ 4.54412682 -3.72885429]\n",
            " [ 2.4726485  -4.94762044]\n",
            " [ 3.56790608  1.95956201]\n",
            " [ 0.53025704  4.35235797]\n",
            " [ 0.1262353  -3.22387934]\n",
            " [ 0.36865792 -2.06540182]\n",
            " [-4.89397947  3.83800718]\n",
            " [ 1.56410648  4.42255973]\n",
            " [ 2.44945298 -2.32789554]\n",
            " [-1.38137122  0.26403886]\n",
            " [ 0.46884971 -2.41329676]\n",
            " [-3.25363653 -1.39289742]\n",
            " [-3.59817735 -1.10921345]\n",
            " [-0.28111666  4.68826923]\n",
            " [-3.5443255   0.14254722]\n",
            " [ 0.2765183  -1.94757484]\n",
            " [-3.40325244  0.96911526]\n",
            " [-3.96271189  0.67966089]\n",
            " [-1.13693619 -4.15277952]\n",
            " [ 0.61999177  1.48071679]\n",
            " [ 1.61933945 -3.10757191]\n",
            " [ 4.54108945 -4.40975544]\n",
            " [ 3.80206236  2.83758161]\n",
            " [-2.47522585  4.27090523]\n",
            " [-0.552494   -1.22848666]\n",
            " [ 3.93823479  2.5405387 ]\n",
            " [ 2.74458016  3.79048511]\n",
            " [-0.18517683 -1.97099275]\n",
            " [-0.57072127  0.28132848]\n",
            " [ 1.08144621  0.25244971]\n",
            " [ 4.77968153  1.02039876]\n",
            " [ 3.35295959 -4.14624161]\n",
            " [-0.11709178  4.00313016]\n",
            " [ 4.17055875 -2.83116481]\n",
            " [-0.99378755  0.45172157]\n",
            " [ 1.4192219  -0.26369486]\n",
            " [ 0.63574125  0.89283654]\n",
            " [-1.86411676  2.5801858 ]\n",
            " [ 3.57166487 -0.23502085]\n",
            " [ 3.63137148  1.60914391]\n",
            " [ 0.50499424  2.99794251]\n",
            " [-1.85224183 -4.61246924]\n",
            " [ 3.08335637  2.96054829]\n",
            " [-2.20080733 -0.44560386]\n",
            " [-1.02350857  4.53431334]\n",
            " [-1.5031824  -4.40573309]\n",
            " [-4.96650743  1.11633721]\n",
            " [-1.54618204 -0.21204937]\n",
            " [ 4.82908523 -3.05003639]\n",
            " [-1.75738133  4.76759801]\n",
            " [ 2.11501909  2.54681108]\n",
            " [-4.20287883 -4.84594352]\n",
            " [-3.31525845 -4.61431786]\n",
            " [ 1.9825841   0.64819062]\n",
            " [ 1.42778543 -3.4865802 ]\n",
            " [ 0.14887388  4.0184584 ]\n",
            " [-3.52031941  2.99869973]\n",
            " [-2.42472035  3.24427753]\n",
            " [ 1.37965484 -0.06784954]\n",
            " [-0.08210123  2.96161025]\n",
            " [ 3.0197411  -4.02397231]\n",
            " [-2.11002648 -3.3002871 ]\n",
            " [ 0.27503988  2.26227312]\n",
            " [ 3.64604887  4.35903056]\n",
            " [-2.18020974  3.2902427 ]\n",
            " [ 2.83446846 -3.5807984 ]\n",
            " [ 0.88703087  0.4146553 ]\n",
            " [-2.57243137 -2.06547675]\n",
            " [ 1.79374122 -1.48132751]\n",
            " [-1.74043983  1.31498227]\n",
            " [-4.78016513 -1.44685844]\n",
            " [-2.49554006  2.51232634]\n",
            " [-1.00337332 -1.46443361]\n",
            " [ 0.47292876  1.14889695]\n",
            " [ 1.7724749   4.4502524 ]\n",
            " [ 1.90240659 -4.41000944]\n",
            " [ 3.33475009  2.71712309]\n",
            " [-2.4680186   4.44966484]\n",
            " [-3.26632735  1.58410277]\n",
            " [ 3.60963035 -0.69260322]\n",
            " [ 4.6287297   3.83884437]\n",
            " [ 2.28267212 -3.41644774]\n",
            " [ 3.58863418  3.67750897]\n",
            " [-4.91314957 -1.03537972]\n",
            " [-4.20864335  3.24908316]\n",
            " [ 2.97222122  3.18925433]\n",
            " [-0.08948555  2.72458266]\n",
            " [-4.92471151 -0.5680689 ]\n",
            " [-4.14656187  1.97390633]\n",
            " [-3.09678757  3.80113026]]\n",
            "[[ 1  0]\n",
            " [ 2  3]\n",
            " [ 4  5]\n",
            " [ 7  6]\n",
            " [ 9  8]\n",
            " [11 10]\n",
            " [12 13]\n",
            " [14 15]\n",
            " [17 16]\n",
            " [18 19]\n",
            " [20 21]\n",
            " [22 23]\n",
            " [25 24]\n",
            " [26 27]\n",
            " [29 28]\n",
            " [30 31]\n",
            " [32 33]\n",
            " [34 35]\n",
            " [37 36]\n",
            " [39 38]\n",
            " [41 40]\n",
            " [42 43]\n",
            " [45 44]\n",
            " [47 46]\n",
            " [49 48]\n",
            " [50 51]\n",
            " [52 53]\n",
            " [55 54]\n",
            " [57 56]\n",
            " [59 58]\n",
            " [60 61]\n",
            " [63 62]\n",
            " [64 65]\n",
            " [67 66]\n",
            " [69 68]\n",
            " [71 70]\n",
            " [72 73]\n",
            " [74 75]\n",
            " [77 76]\n",
            " [78 79]\n",
            " [81 80]\n",
            " [82 83]\n",
            " [85 84]\n",
            " [86 87]\n",
            " [88 89]\n",
            " [91 90]\n",
            " [92 93]\n",
            " [95 94]\n",
            " [96 97]\n",
            " [99 98]]\n"
          ]
        }
      ],
      "source": [
        "print(X)\n",
        "print(M)"
      ]
    },
    {
      "cell_type": "code",
      "execution_count": 12,
      "metadata": {
        "id": "_IrlLjnzqA6d"
      },
      "outputs": [],
      "source": [
        "gpr = ProbitPreferenceGP()"
      ]
    },
    {
      "cell_type": "code",
      "execution_count": 13,
      "metadata": {
        "colab": {
          "base_uri": "https://localhost:8080/"
        },
        "id": "tcCrm6968VKV",
        "outputId": "7ddd06c5-ba30-483d-e893-2721a3c4f89f"
      },
      "outputs": [
        {
          "name": "stderr",
          "output_type": "stream",
          "text": [
            "  2%|▏         | 1/50 [00:00<00:20,  2.43it/s]"
          ]
        },
        {
          "name": "stdout",
          "output_type": "stream",
          "text": [
            ">>> corr: 0.18928817699547493\n"
          ]
        },
        {
          "name": "stderr",
          "output_type": "stream",
          "text": [
            "\r  4%|▍         | 2/50 [00:01<00:31,  1.51it/s]"
          ]
        },
        {
          "name": "stdout",
          "output_type": "stream",
          "text": [
            ">>> corr: 0.18520401863236677\n"
          ]
        },
        {
          "name": "stderr",
          "output_type": "stream",
          "text": [
            "\r  6%|▌         | 3/50 [00:02<00:46,  1.02it/s]"
          ]
        },
        {
          "name": "stdout",
          "output_type": "stream",
          "text": [
            ">>> corr: 0.2102285000691164\n"
          ]
        },
        {
          "name": "stderr",
          "output_type": "stream",
          "text": [
            "\r  8%|▊         | 4/50 [00:05<01:18,  1.70s/it]"
          ]
        },
        {
          "name": "stdout",
          "output_type": "stream",
          "text": [
            ">>> corr: 0.26975731444532786\n"
          ]
        },
        {
          "name": "stderr",
          "output_type": "stream",
          "text": [
            "\r 10%|█         | 5/50 [00:08<01:32,  2.05s/it]"
          ]
        },
        {
          "name": "stdout",
          "output_type": "stream",
          "text": [
            ">>> corr: 0.37653861768442265\n"
          ]
        },
        {
          "name": "stderr",
          "output_type": "stream",
          "text": [
            "\r 12%|█▏        | 6/50 [00:11<01:45,  2.39s/it]"
          ]
        },
        {
          "name": "stdout",
          "output_type": "stream",
          "text": [
            ">>> corr: 0.42613554527711506\n"
          ]
        },
        {
          "name": "stderr",
          "output_type": "stream",
          "text": [
            "\r 14%|█▍        | 7/50 [00:14<02:01,  2.83s/it]"
          ]
        },
        {
          "name": "stdout",
          "output_type": "stream",
          "text": [
            ">>> corr: 0.43456633984833665\n"
          ]
        },
        {
          "name": "stderr",
          "output_type": "stream",
          "text": [
            "\r 16%|█▌        | 8/50 [00:20<02:35,  3.71s/it]"
          ]
        },
        {
          "name": "stdout",
          "output_type": "stream",
          "text": [
            ">>> corr: 0.3834191731653217\n"
          ]
        },
        {
          "name": "stderr",
          "output_type": "stream",
          "text": [
            "\r 18%|█▊        | 9/50 [00:25<02:49,  4.14s/it]"
          ]
        },
        {
          "name": "stdout",
          "output_type": "stream",
          "text": [
            ">>> corr: 0.3307416310908731\n"
          ]
        },
        {
          "name": "stderr",
          "output_type": "stream",
          "text": [
            "\r 20%|██        | 10/50 [00:32<03:21,  5.04s/it]"
          ]
        },
        {
          "name": "stdout",
          "output_type": "stream",
          "text": [
            ">>> corr: 0.32511795982084923\n"
          ]
        },
        {
          "name": "stderr",
          "output_type": "stream",
          "text": [
            "\r 22%|██▏       | 11/50 [00:39<03:36,  5.56s/it]"
          ]
        },
        {
          "name": "stdout",
          "output_type": "stream",
          "text": [
            ">>> corr: 0.15011494168076672\n"
          ]
        },
        {
          "name": "stderr",
          "output_type": "stream",
          "text": [
            "\r 24%|██▍       | 12/50 [00:48<04:07,  6.52s/it]"
          ]
        },
        {
          "name": "stdout",
          "output_type": "stream",
          "text": [
            ">>> corr: 0.09351301118143965\n"
          ]
        },
        {
          "name": "stderr",
          "output_type": "stream",
          "text": [
            "\r 26%|██▌       | 13/50 [00:56<04:21,  7.08s/it]"
          ]
        },
        {
          "name": "stdout",
          "output_type": "stream",
          "text": [
            ">>> corr: 0.1393458262967291\n"
          ]
        },
        {
          "name": "stderr",
          "output_type": "stream",
          "text": [
            "\r 28%|██▊       | 14/50 [01:06<04:46,  7.97s/it]"
          ]
        },
        {
          "name": "stdout",
          "output_type": "stream",
          "text": [
            ">>> corr: 0.13688010613922855\n"
          ]
        },
        {
          "name": "stderr",
          "output_type": "stream",
          "text": [
            "\r 30%|███       | 15/50 [01:17<05:12,  8.92s/it]"
          ]
        },
        {
          "name": "stdout",
          "output_type": "stream",
          "text": [
            ">>> corr: 0.2017574550520515\n"
          ]
        },
        {
          "name": "stderr",
          "output_type": "stream",
          "text": [
            "\r 32%|███▏      | 16/50 [01:29<05:37,  9.92s/it]"
          ]
        },
        {
          "name": "stdout",
          "output_type": "stream",
          "text": [
            ">>> corr: 0.18684120371994167\n"
          ]
        },
        {
          "name": "stderr",
          "output_type": "stream",
          "text": [
            "\r 34%|███▍      | 17/50 [01:43<06:01, 10.96s/it]"
          ]
        },
        {
          "name": "stdout",
          "output_type": "stream",
          "text": [
            ">>> corr: 0.1835916160218724\n"
          ]
        },
        {
          "name": "stderr",
          "output_type": "stream",
          "text": [
            "\r 36%|███▌      | 18/50 [01:57<06:27, 12.09s/it]"
          ]
        },
        {
          "name": "stdout",
          "output_type": "stream",
          "text": [
            ">>> corr: 0.13166199529049796\n"
          ]
        },
        {
          "name": "stderr",
          "output_type": "stream",
          "text": [
            "\r 38%|███▊      | 19/50 [02:13<06:51, 13.26s/it]"
          ]
        },
        {
          "name": "stdout",
          "output_type": "stream",
          "text": [
            ">>> corr: 0.08234197076486499\n"
          ]
        },
        {
          "name": "stderr",
          "output_type": "stream",
          "text": [
            "\r 40%|████      | 20/50 [02:30<07:09, 14.33s/it]"
          ]
        },
        {
          "name": "stdout",
          "output_type": "stream",
          "text": [
            ">>> corr: 0.11834820518695392\n"
          ]
        },
        {
          "name": "stderr",
          "output_type": "stream",
          "text": [
            "\r 42%|████▏     | 21/50 [02:49<07:30, 15.55s/it]"
          ]
        },
        {
          "name": "stdout",
          "output_type": "stream",
          "text": [
            ">>> corr: 0.11703974861378341\n"
          ]
        },
        {
          "name": "stderr",
          "output_type": "stream",
          "text": [
            "\r 44%|████▍     | 22/50 [03:07<07:40, 16.45s/it]"
          ]
        },
        {
          "name": "stdout",
          "output_type": "stream",
          "text": [
            ">>> corr: 0.15358788746748397\n"
          ]
        },
        {
          "name": "stderr",
          "output_type": "stream",
          "text": [
            "\r 46%|████▌     | 23/50 [03:29<08:05, 17.97s/it]"
          ]
        },
        {
          "name": "stdout",
          "output_type": "stream",
          "text": [
            ">>> corr: 0.2224906472356369\n"
          ]
        },
        {
          "name": "stderr",
          "output_type": "stream",
          "text": [
            "\r 48%|████▊     | 24/50 [03:50<08:11, 18.91s/it]"
          ]
        },
        {
          "name": "stdout",
          "output_type": "stream",
          "text": [
            ">>> corr: 0.22989170759487643\n"
          ]
        },
        {
          "name": "stderr",
          "output_type": "stream",
          "text": [
            "\r 50%|█████     | 25/50 [04:13<08:25, 20.21s/it]"
          ]
        },
        {
          "name": "stdout",
          "output_type": "stream",
          "text": [
            ">>> corr: 0.2461193642021016\n"
          ]
        },
        {
          "name": "stderr",
          "output_type": "stream",
          "text": [
            "\r 52%|█████▏    | 26/50 [04:37<08:31, 21.31s/it]"
          ]
        },
        {
          "name": "stdout",
          "output_type": "stream",
          "text": [
            ">>> corr: 0.2472755941718837\n"
          ]
        },
        {
          "name": "stderr",
          "output_type": "stream",
          "text": [
            "\r 54%|█████▍    | 27/50 [05:02<08:33, 22.34s/it]"
          ]
        },
        {
          "name": "stdout",
          "output_type": "stream",
          "text": [
            ">>> corr: 0.22908379379441024\n"
          ]
        },
        {
          "name": "stderr",
          "output_type": "stream",
          "text": [
            "\r 56%|█████▌    | 28/50 [05:28<08:35, 23.44s/it]"
          ]
        },
        {
          "name": "stdout",
          "output_type": "stream",
          "text": [
            ">>> corr: 0.11989686569578\n"
          ]
        },
        {
          "name": "stderr",
          "output_type": "stream",
          "text": [
            "\r 58%|█████▊    | 29/50 [05:55<08:35, 24.56s/it]"
          ]
        },
        {
          "name": "stdout",
          "output_type": "stream",
          "text": [
            ">>> corr: 0.18452608952884458\n"
          ]
        },
        {
          "name": "stderr",
          "output_type": "stream",
          "text": [
            "\r 60%|██████    | 30/50 [06:23<08:32, 25.64s/it]"
          ]
        },
        {
          "name": "stdout",
          "output_type": "stream",
          "text": [
            ">>> corr: 0.15678976211663428\n"
          ]
        },
        {
          "name": "stderr",
          "output_type": "stream",
          "text": [
            "\r 62%|██████▏   | 31/50 [06:56<08:49, 27.85s/it]"
          ]
        },
        {
          "name": "stdout",
          "output_type": "stream",
          "text": [
            ">>> corr: 0.17910703947811765\n"
          ]
        },
        {
          "name": "stderr",
          "output_type": "stream",
          "text": [
            "\r 64%|██████▍   | 32/50 [07:28<08:44, 29.16s/it]"
          ]
        },
        {
          "name": "stdout",
          "output_type": "stream",
          "text": [
            ">>> corr: 0.13528614416751097\n"
          ]
        },
        {
          "name": "stderr",
          "output_type": "stream",
          "text": [
            "\r 66%|██████▌   | 33/50 [08:00<08:31, 30.08s/it]"
          ]
        },
        {
          "name": "stdout",
          "output_type": "stream",
          "text": [
            ">>> corr: 0.07356531079163843\n"
          ]
        },
        {
          "name": "stderr",
          "output_type": "stream",
          "text": [
            "\r 68%|██████▊   | 34/50 [08:33<08:13, 30.84s/it]"
          ]
        },
        {
          "name": "stdout",
          "output_type": "stream",
          "text": [
            ">>> corr: 0.11943101170926218\n"
          ]
        },
        {
          "name": "stderr",
          "output_type": "stream",
          "text": [
            "\r 70%|███████   | 35/50 [09:08<07:58, 31.93s/it]"
          ]
        },
        {
          "name": "stdout",
          "output_type": "stream",
          "text": [
            ">>> corr: 0.28206522593116523\n"
          ]
        },
        {
          "name": "stderr",
          "output_type": "stream",
          "text": [
            "\r 72%|███████▏  | 36/50 [09:43<07:41, 32.95s/it]"
          ]
        },
        {
          "name": "stdout",
          "output_type": "stream",
          "text": [
            ">>> corr: 0.2773097882126715\n"
          ]
        },
        {
          "name": "stderr",
          "output_type": "stream",
          "text": [
            "\r 74%|███████▍  | 37/50 [10:19<07:19, 33.83s/it]"
          ]
        },
        {
          "name": "stdout",
          "output_type": "stream",
          "text": [
            ">>> corr: 0.2980095936896118\n"
          ]
        },
        {
          "name": "stderr",
          "output_type": "stream",
          "text": [
            "\r 76%|███████▌  | 38/50 [10:57<07:00, 35.01s/it]"
          ]
        },
        {
          "name": "stdout",
          "output_type": "stream",
          "text": [
            ">>> corr: 0.35066546938695764\n"
          ]
        },
        {
          "name": "stderr",
          "output_type": "stream",
          "text": [
            "\r 78%|███████▊  | 39/50 [11:34<06:33, 35.76s/it]"
          ]
        },
        {
          "name": "stdout",
          "output_type": "stream",
          "text": [
            ">>> corr: 0.26876758665789824\n"
          ]
        },
        {
          "name": "stderr",
          "output_type": "stream",
          "text": [
            "\r 80%|████████  | 40/50 [12:13<06:06, 36.60s/it]"
          ]
        },
        {
          "name": "stdout",
          "output_type": "stream",
          "text": [
            ">>> corr: 0.24504812875949805\n"
          ]
        },
        {
          "name": "stderr",
          "output_type": "stream",
          "text": [
            "\r 82%|████████▏ | 41/50 [12:52<05:37, 37.48s/it]"
          ]
        },
        {
          "name": "stdout",
          "output_type": "stream",
          "text": [
            ">>> corr: 0.25885615486507896\n"
          ]
        },
        {
          "name": "stderr",
          "output_type": "stream",
          "text": [
            "\r 84%|████████▍ | 42/50 [13:33<05:08, 38.56s/it]"
          ]
        },
        {
          "name": "stdout",
          "output_type": "stream",
          "text": [
            ">>> corr: 0.32737777694181663\n"
          ]
        },
        {
          "name": "stderr",
          "output_type": "stream",
          "text": [
            "\r 86%|████████▌ | 43/50 [14:15<04:36, 39.47s/it]"
          ]
        },
        {
          "name": "stdout",
          "output_type": "stream",
          "text": [
            ">>> corr: 0.38511125766334553\n"
          ]
        },
        {
          "name": "stderr",
          "output_type": "stream",
          "text": [
            "\r 88%|████████▊ | 44/50 [14:57<04:01, 40.24s/it]"
          ]
        },
        {
          "name": "stdout",
          "output_type": "stream",
          "text": [
            ">>> corr: 0.37285244813649976\n"
          ]
        },
        {
          "name": "stderr",
          "output_type": "stream",
          "text": [
            "\r 90%|█████████ | 45/50 [15:40<03:25, 41.13s/it]"
          ]
        },
        {
          "name": "stdout",
          "output_type": "stream",
          "text": [
            ">>> corr: 0.3663832341110613\n"
          ]
        },
        {
          "name": "stderr",
          "output_type": "stream",
          "text": [
            "\r 92%|█████████▏| 46/50 [16:25<02:49, 42.26s/it]"
          ]
        },
        {
          "name": "stdout",
          "output_type": "stream",
          "text": [
            ">>> corr: 0.3771354362528899\n"
          ]
        },
        {
          "name": "stderr",
          "output_type": "stream",
          "text": [
            "\r 94%|█████████▍| 47/50 [17:11<02:10, 43.55s/it]"
          ]
        },
        {
          "name": "stdout",
          "output_type": "stream",
          "text": [
            ">>> corr: 0.3670648071531261\n"
          ]
        },
        {
          "name": "stderr",
          "output_type": "stream",
          "text": [
            "\r 96%|█████████▌| 48/50 [17:58<01:28, 44.34s/it]"
          ]
        },
        {
          "name": "stdout",
          "output_type": "stream",
          "text": [
            ">>> corr: 0.3630280862330342\n"
          ]
        },
        {
          "name": "stderr",
          "output_type": "stream",
          "text": [
            "\r 98%|█████████▊| 49/50 [18:47<00:45, 45.70s/it]"
          ]
        },
        {
          "name": "stdout",
          "output_type": "stream",
          "text": [
            ">>> corr: 0.3634414008755623\n"
          ]
        },
        {
          "name": "stderr",
          "output_type": "stream",
          "text": [
            "100%|██████████| 50/50 [20:09<00:00, 24.18s/it]"
          ]
        },
        {
          "name": "stdout",
          "output_type": "stream",
          "text": [
            ">>> corr: 0.3439755388039091\n"
          ]
        },
        {
          "name": "stderr",
          "output_type": "stream",
          "text": [
            "\n"
          ]
        }
      ],
      "source": [
        "corr_list = []\n",
        "for i in tqdm(range(1, 51)):\n",
        "  gpr.fit(X[:2*i], M[:i], f_prior=None)\n",
        "  get_metrics(corr_list)"
      ]
    },
    {
      "cell_type": "code",
      "execution_count": 14,
      "metadata": {
        "colab": {
          "base_uri": "https://localhost:8080/"
        },
        "id": "aSNSM2HbH7Mi",
        "outputId": "3432a2bf-097a-49fa-bedf-33f3f6155a3c"
      },
      "outputs": [
        {
          "data": {
            "text/plain": [
              "[np.float64(0.18928817699547493),\n",
              " np.float64(0.18520401863236677),\n",
              " np.float64(0.2102285000691164),\n",
              " np.float64(0.26975731444532786),\n",
              " np.float64(0.37653861768442265),\n",
              " np.float64(0.42613554527711506),\n",
              " np.float64(0.43456633984833665),\n",
              " np.float64(0.3834191731653217),\n",
              " np.float64(0.3307416310908731),\n",
              " np.float64(0.32511795982084923),\n",
              " np.float64(0.15011494168076672),\n",
              " np.float64(0.09351301118143965),\n",
              " np.float64(0.1393458262967291),\n",
              " np.float64(0.13688010613922855),\n",
              " np.float64(0.2017574550520515),\n",
              " np.float64(0.18684120371994167),\n",
              " np.float64(0.1835916160218724),\n",
              " np.float64(0.13166199529049796),\n",
              " np.float64(0.08234197076486499),\n",
              " np.float64(0.11834820518695392),\n",
              " np.float64(0.11703974861378341),\n",
              " np.float64(0.15358788746748397),\n",
              " np.float64(0.2224906472356369),\n",
              " np.float64(0.22989170759487643),\n",
              " np.float64(0.2461193642021016),\n",
              " np.float64(0.2472755941718837),\n",
              " np.float64(0.22908379379441024),\n",
              " np.float64(0.11989686569578),\n",
              " np.float64(0.18452608952884458),\n",
              " np.float64(0.15678976211663428),\n",
              " np.float64(0.17910703947811765),\n",
              " np.float64(0.13528614416751097),\n",
              " np.float64(0.07356531079163843),\n",
              " np.float64(0.11943101170926218),\n",
              " np.float64(0.28206522593116523),\n",
              " np.float64(0.2773097882126715),\n",
              " np.float64(0.2980095936896118),\n",
              " np.float64(0.35066546938695764),\n",
              " np.float64(0.26876758665789824),\n",
              " np.float64(0.24504812875949805),\n",
              " np.float64(0.25885615486507896),\n",
              " np.float64(0.32737777694181663),\n",
              " np.float64(0.38511125766334553),\n",
              " np.float64(0.37285244813649976),\n",
              " np.float64(0.3663832341110613),\n",
              " np.float64(0.3771354362528899),\n",
              " np.float64(0.3670648071531261),\n",
              " np.float64(0.3630280862330342),\n",
              " np.float64(0.3634414008755623),\n",
              " np.float64(0.3439755388039091)]"
            ]
          },
          "execution_count": 14,
          "metadata": {},
          "output_type": "execute_result"
        }
      ],
      "source": [
        "corr_list"
      ]
    },
    {
      "cell_type": "code",
      "execution_count": 15,
      "metadata": {
        "colab": {
          "base_uri": "https://localhost:8080/",
          "height": 449
        },
        "id": "aS90f7IVqJXs",
        "outputId": "35b60068-a08d-4ba8-9c8a-6705d93501b5"
      },
      "outputs": [
        {
          "name": "stdout",
          "output_type": "stream",
          "text": [
            "(10201, 1)\n"
          ]
        },
        {
          "data": {
            "image/png": "[encoded data removed]",
            "text/plain": [
              "<Figure size 640x480 with 1 Axes>"
            ]
          },
          "metadata": {},
          "output_type": "display_data"
        }
      ],
      "source": [
        "step_size = 0.1\n",
        "x, y = np.mgrid[-5:5+step_size:step_size, -5:5+step_size:step_size]\n",
        "pos = np.dstack((x, y))\n",
        "Xpred = pos.reshape(-1, 2)\n",
        "y_pred = gpr.predict(Xpred)\n",
        "print(y_pred.shape)\n",
        "y_pred_mean = np.mean(y_pred, axis=1).reshape(x.shape)\n",
        "y_pred_std = np.std(y_pred, axis=1)\n",
        "fig = plt.figure()\n",
        "ax = fig.add_subplot(111, projection='3d')\n",
        "ax.plot_surface(x, y, y_pred_mean, cmap='viridis')\n",
        "# ax.view_init(elev=90, azim=-90)\n",
        "ax.set_xlabel('X-axis')\n",
        "ax.set_ylabel('Y-axis')\n",
        "ax.set_zlabel('PDF value')\n",
        "ax.set_title('Final plot')\n",
        "# plt.show()\n",
        "plt.savefig(\"sim2_bl1.pdf\")"
      ]
    },
    {
      "cell_type": "code",
      "execution_count": null,
      "metadata": {
        "id": "3rtqe7u3sl8C"
      },
      "outputs": [],
      "source": []
    }
  ],
  "metadata": {
    "colab": {
      "provenance": []
    },
    "kernelspec": {
      "display_name": "Python 3.12.6 64-bit",
      "language": "python",
      "name": "python3"
    },
    "language_info": {
      "name": "python",
      "version": "3.12.6"
    },
    "vscode": {
      "interpreter": {
        "hash": "b0fa6594d8f4cbf19f97940f81e996739fb7646882a419484c72d19e05852a7e"
      }
    }
  },
  "nbformat": 4,
  "nbformat_minor": 0
}
